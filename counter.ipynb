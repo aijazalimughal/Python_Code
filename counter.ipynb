{
 "cells": [
  {
   "cell_type": "code",
   "execution_count": 101,
   "id": "d7d96853-cef3-464a-8cd3-0eab8a4add9b",
   "metadata": {
    "tags": []
   },
   "outputs": [
    {
     "name": "stdin",
     "output_type": "stream",
     "text": [
      "write something:  Chapter 1: The Key (Al-Fatehah)  [1:1] In the name of God, Most Gracious, Most Merciful.*  \t*1:1 The first verse in the Quran represents the foundation upon which a superhuman 19-based mathematical miracle is built. This important statement consists of 19 Arabic letters, and every word in it occurs in the whole Quran in multiples of 19 (see Appendices 1 & 29 for the details). \t \t \t*1:1-7 Sura 1 is God's gift to us to establish contact with Him through the daily Contact Prayers. This fact is supported by an earth-shattering, simple-to-understand-but-impossible-to-imitate mathematical composition that challenges the greatest mathematicians on earth, and stumps them; it is far beyond human capabilities:\n"
     ]
    },
    {
     "name": "stdout",
     "output_type": "stream",
     "text": [
      "Total words in the text:  112\n",
      "Your Most repeated word is: ' the '\n",
      "' the ' has occured : 7 times in your text. Try to reduce its occurence.\n"
     ]
    }
   ],
   "source": [
    "import statistics\n",
    "from statistics import mode\n",
    "\n",
    "\n",
    "lis = []\n",
    "counter = 0\n",
    "word = 0\n",
    "rpt = 0\n",
    "start = 0\n",
    "words =0\n",
    "\n",
    "\n",
    "\n",
    "inp = input(\"write something: \")\n",
    "nlis = list(inp.split(\" \"))   \n",
    "words = len(nlis)\n",
    "\n",
    "rslt = mode(nlis)\n",
    "rpt = nlis.count(rslt)\n",
    "print(\"Total words in the text: \", words)\n",
    "if rpt>1:\n",
    "    print (\"Your Most repeated word is: '\", rslt,\"'\")\n",
    "    print (\"'\", rslt,\"'\",\"has occured :\", rpt, \"times in your text. Try to use its synonyms if the use of word is not absolutely necessary.\")\n",
    "else:\n",
    "    print(\" All words in your writing are Unique, we have found No any repetations of words in your text.\") "
   ]
  },
  {
   "cell_type": "code",
   "execution_count": null,
   "id": "d5c2350a-fd07-48ee-b085-e7e2e635f20d",
   "metadata": {},
   "outputs": [],
   "source": []
  }
 ],
 "metadata": {
  "kernelspec": {
   "display_name": "Python 3 (ipykernel)",
   "language": "python",
   "name": "python3"
  },
  "language_info": {
   "codemirror_mode": {
    "name": "ipython",
    "version": 3
   },
   "file_extension": ".py",
   "mimetype": "text/x-python",
   "name": "python",
   "nbconvert_exporter": "python",
   "pygments_lexer": "ipython3",
   "version": "3.11.4"
  }
 },
 "nbformat": 4,
 "nbformat_minor": 5
}
