{
 "cells": [
  {
   "cell_type": "code",
   "execution_count": 25,
   "id": "7d59b154-b5fe-40f6-a914-2c14e9779040",
   "metadata": {
    "tags": []
   },
   "outputs": [
    {
     "name": "stdin",
     "output_type": "stream",
     "text": [
      "Enter File:  E:\\Data Science\\2.txt\n",
      " What do you want to search:  Python\n"
     ]
    },
    {
     "name": "stdout",
     "output_type": "stream",
     "text": [
      "Done\n",
      "The Python occurs: 5 times\n"
     ]
    }
   ],
   "source": [
    "i=0\n",
    "point = 0\n",
    "name = input (\"Enter File: \")\n",
    "find = input(\" What do you want to search: \")\n",
    "handle = open(name)\n",
    "find.lower()\n",
    "data = handle.read()\n",
    "data.lower()\n",
    "\n",
    "while i <len(data):\n",
    "    point = data.find(find,point+1)\n",
    "    if point == -1 :\n",
    "        print (\"Done\")\n",
    "        break\n",
    "    i = i+1\n",
    "print (\"The\",find,\"occurs:\",i,\"times\")"
   ]
  },
  {
   "cell_type": "code",
   "execution_count": null,
   "id": "8e29f452-79b2-4e90-9be3-7a454426f316",
   "metadata": {},
   "outputs": [],
   "source": []
  }
 ],
 "metadata": {
  "kernelspec": {
   "display_name": "Python 3 (ipykernel)",
   "language": "python",
   "name": "python3"
  },
  "language_info": {
   "codemirror_mode": {
    "name": "ipython",
    "version": 3
   },
   "file_extension": ".py",
   "mimetype": "text/x-python",
   "name": "python",
   "nbconvert_exporter": "python",
   "pygments_lexer": "ipython3",
   "version": "3.11.4"
  }
 },
 "nbformat": 4,
 "nbformat_minor": 5
}
