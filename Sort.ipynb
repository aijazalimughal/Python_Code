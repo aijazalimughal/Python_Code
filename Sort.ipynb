{
 "cells": [
  {
   "cell_type": "code",
   "execution_count": 13,
   "id": "c4076920-04dc-4ed8-aabc-533d99055db2",
   "metadata": {
    "tags": []
   },
   "outputs": [
    {
     "name": "stdin",
     "output_type": "stream",
     "text": [
      "Enter an Article:  butter\n",
      "Enter an Article:  cheese\n",
      "Enter an Article:  extra virgin oil\n",
      "Enter an Article:  butter\n",
      "Enter an Article:  flour\n",
      "Enter an Article:  handbag\n",
      "Enter an Article:  parsley\n",
      "Enter an Article:  mint\n",
      "Enter an Article:  ding dong\n",
      "Enter an Article:  bus\n",
      "Enter an Article:  done\n"
     ]
    },
    {
     "name": "stdout",
     "output_type": "stream",
     "text": [
      "Unique Items:  8\n",
      "Repeat Itesm:  1\n",
      "Total Items:  9\n"
     ]
    }
   ],
   "source": [
    "lis = []\n",
    "qty = []\n",
    "uniq =0\n",
    "rpt=0\n",
    "while True:\n",
    "    item = input(\"Enter an Article: \")\n",
    "    if item == \"done\" :\n",
    "        break\n",
    "    elif item not in lis:\n",
    "        lis.append(item)\n",
    "        uniq = uniq+1\n",
    "        \n",
    "    else :\n",
    "        rpt = rpt +1\n",
    "        uniq = uniq -1 \n",
    "        \n",
    "    \n",
    "print (\"Unique Items: \", uniq)\n",
    "print (\"Repeat Items: \",rpt)\n",
    "print(\"Total Items: \", len(lis))"
   ]
  },
  {
   "cell_type": "code",
   "execution_count": null,
   "id": "23f5e24a-45d8-4cb6-aa79-e8e4b62422d8",
   "metadata": {},
   "outputs": [],
   "source": []
  }
 ],
 "metadata": {
  "kernelspec": {
   "display_name": "Python 3 (ipykernel)",
   "language": "python",
   "name": "python3"
  },
  "language_info": {
   "codemirror_mode": {
    "name": "ipython",
    "version": 3
   },
   "file_extension": ".py",
   "mimetype": "text/x-python",
   "name": "python",
   "nbconvert_exporter": "python",
   "pygments_lexer": "ipython3",
   "version": "3.11.4"
  }
 },
 "nbformat": 4,
 "nbformat_minor": 5
}
