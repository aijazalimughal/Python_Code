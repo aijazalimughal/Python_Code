{
 "cells": [
  {
   "cell_type": "code",
   "execution_count": 61,
   "id": "087f3ac6-e789-4bd4-898f-71a6616885d0",
   "metadata": {
    "tags": []
   },
   "outputs": [
    {
     "name": "stdin",
     "output_type": "stream",
     "text": [
      "input base number:  1\n",
      "input power:  2\n"
     ]
    },
    {
     "name": "stdout",
     "output_type": "stream",
     "text": [
      "1 X 1 = 1\n"
     ]
    }
   ],
   "source": [
    "base = input(\"input base number: \")\n",
    "power = input(\"input power: \")\n",
    "pow = int(power) \n",
    "bas = int(base)\n",
    "result = bas\n",
    "count = 0\n",
    "\n",
    "if pow== 1 :\n",
    "        print(base,\"X 1 = \",(result*pow))\n",
    "       # result = result * bas\n",
    "        count = count+1\n",
    "else:\n",
    "        while  count < (pow-1):\n",
    "            print(result,\"X\",base,\"=\",(result*bas))\n",
    "            result = result * bas\n",
    "            count = count+1 \n",
    "#counter =0\n",
    "#while counter <pow :\n",
    " #   print(base +\"X\"+power,\"\")\n",
    " #   counter = counter+1\n",
    "    \n",
    "#print(base * pow)\n",
    "#print (result)\n",
    "    "
   ]
  },
  {
   "cell_type": "code",
   "execution_count": null,
   "id": "a46ef3c0-6735-45c5-8760-f1172eaeead7",
   "metadata": {},
   "outputs": [],
   "source": []
  }
 ],
 "metadata": {
  "kernelspec": {
   "display_name": "Python 3 (ipykernel)",
   "language": "python",
   "name": "python3"
  },
  "language_info": {
   "codemirror_mode": {
    "name": "ipython",
    "version": 3
   },
   "file_extension": ".py",
   "mimetype": "text/x-python",
   "name": "python",
   "nbconvert_exporter": "python",
   "pygments_lexer": "ipython3",
   "version": "3.11.4"
  }
 },
 "nbformat": 4,
 "nbformat_minor": 5
}
