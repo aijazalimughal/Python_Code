{
 "cells": [
  {
   "cell_type": "code",
   "execution_count": 18,
   "id": "83822cf2-05ca-4497-8c73-b1fcf1f31058",
   "metadata": {
    "tags": []
   },
   "outputs": [
    {
     "name": "stdin",
     "output_type": "stream",
     "text": [
      "Hi! input any Number:  4567\n"
     ]
    },
    {
     "name": "stdout",
     "output_type": "stream",
     "text": [
      "Smallest Number that could be formed using these digits is:  4,567\n",
      "Largest Number that could be formed using these digits is:  7,654\n"
     ]
    }
   ],
   "source": [
    "inp = input(\"Hi! input any Number: \")  \n",
    "\n",
    "nlist = list(inp)\n",
    "\n",
    "nlist.sort(reverse = True)\n",
    "large_stri = ''.join(map(str,nlist))\n",
    "large = int(large_stri)\n",
    "\n",
    "nlist.sort()\n",
    "small_stri= ''.join(map(str,nlist)) \n",
    "small = int(small_stri)\n",
    "\n",
    "print(\"Smallest Number that could be formed using these digits is: \", f\"{small:,}\")\n",
    "print(\"Largest Number that could be formed using these digits is: \", f\"{large:,}\")\n"
   ]
  },
  {
   "cell_type": "code",
   "execution_count": null,
   "id": "0026fe00-5483-432c-b0a9-646cfd895a41",
   "metadata": {},
   "outputs": [],
   "source": []
  }
 ],
 "metadata": {
  "kernelspec": {
   "display_name": "Python 3 (ipykernel)",
   "language": "python",
   "name": "python3"
  },
  "language_info": {
   "codemirror_mode": {
    "name": "ipython",
    "version": 3
   },
   "file_extension": ".py",
   "mimetype": "text/x-python",
   "name": "python",
   "nbconvert_exporter": "python",
   "pygments_lexer": "ipython3",
   "version": "3.11.4"
  }
 },
 "nbformat": 4,
 "nbformat_minor": 5
}
